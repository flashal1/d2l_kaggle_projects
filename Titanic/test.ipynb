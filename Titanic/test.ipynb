{
 "cells": [
  {
   "cell_type": "code",
   "execution_count": null,
   "id": "initial_id",
   "metadata": {
    "collapsed": true
   },
   "outputs": [],
   "source": []
  },
  {
   "cell_type": "code",
   "execution_count": 9,
   "outputs": [
    {
     "data": {
      "text/plain": "[<matplotlib.lines.Line2D at 0x26f32919790>]"
     },
     "execution_count": 9,
     "metadata": {},
     "output_type": "execute_result"
    },
    {
     "data": {
      "text/plain": "<Figure size 640x480 with 1 Axes>",
      "image/png": "[encoded data removed]"
     },
     "metadata": {},
     "output_type": "display_data"
    }
   ],
   "source": [
    "import torch\n",
    "import torch.nn.functional as F\n",
    "import matplotlib.pyplot as plt\n",
    "import numpy as np\n",
    "import pandas as pd\n",
    "#老是显示什么副本已存在，不知道在干嘛\n",
    "import os\n",
    "os.environ[\"KMP_DUPLICATE_LIB_OK\"]=\"TRUE\"\n",
    " \n",
    "#导入数据\n",
    "trainData = pd.read_csv('./data/train(1).csv')\n",
    "#将label和input（数值型数据）都提取出来\n",
    "label = trainData['Survived']\n",
    "# features = ['Pclass', 'SibSp', 'Parch', 'Fare']\n",
    "# inputs = trainData[features]\n",
    "inputs = trainData[['Pclass', 'SibSp', 'Parch', 'Fare']]\n",
    "y = torch.from_numpy(label.values)\n",
    "x = torch.from_numpy(inputs.values)\n",
    "x = x.float()#不这么写会有数据类型的错误\n",
    "y = y.float()\n",
    " \n",
    "#模型\n",
    "#继承自module\n",
    "class Titaninc_num(torch.nn.Module):\n",
    "    \n",
    "    #构造函数，初始化对象\n",
    "    def __init__(self):\n",
    "        #不用管就是这么写（调用父类）\n",
    "        super(Titaninc_num,self).__init__()\n",
    "        #构造对象（输入维度和输出维度都是1）\n",
    "        #nn就是neura network\n",
    "        #多维特征的输入需要这么写\n",
    "        self.activate = torch.nn.ELU()\n",
    "        self.sigmoid = torch.nn.Sigmoid()\n",
    "        self.linear1 = torch.nn.Linear(4,512)\n",
    "        self.linear2 = torch.nn.Linear(512,1)\n",
    "        self.linear3 = torch.nn.Linear(512, 512)\n",
    "        self.dropout = torch.nn.Dropout(0.2)\n",
    " \n",
    "    #只能叫forward，前馈过程中执行的计算      \n",
    "    def forward(self,x):\n",
    "        \n",
    "        #定义了可调用的对象\n",
    "        #这里就只构建一层神经网络试试看\n",
    "        y_pred = self.activate(self.linear1(x))\n",
    "        y_pred = self.dropout(y_pred)\n",
    "        y_pred = F.relu(self.linear3(y_pred))\n",
    "        y_pred = self.sigmoid(self.linear2(y_pred))\n",
    "        y_pred = y_pred.squeeze(-1)\n",
    "        return y_pred\n",
    "    \n",
    "    #没有backward，module会自动实现\n",
    "    \n",
    "model = Titaninc_num()\n",
    " \n",
    "criterion = torch.nn.BCELoss(reduction='sum')\n",
    "optimizer = torch.optim.SGD(model.parameters(), lr = 0.01)\n",
    " \n",
    "epoch_list = []\n",
    "l_list = []\n",
    "for epoch in range(2000):\n",
    "    y_pred = model(x)\n",
    "    loss = criterion(y_pred, y)\n",
    "    #print(epoch,loss.item())\n",
    "    epoch_list.append(epoch)\n",
    "    l_list.append(loss.data.item())\n",
    "    \n",
    "    #梯度归零，防止累加\n",
    "    optimizer.zero_grad()\n",
    "    #反向传播\n",
    "    loss.backward()\n",
    "    #更新\n",
    "    optimizer.step()\n",
    " \n",
    " \n",
    "plt.plot(np.array(epoch_list),np.array(l_list))"
   ],
   "metadata": {
    "collapsed": false,
    "ExecuteTime": {
     "end_time": "2023-10-09T12:50:13.215551800Z",
     "start_time": "2023-10-09T12:49:56.589801600Z"
    }
   },
   "id": "3dd58f97c04d714a"
  },
  {
   "cell_type": "code",
   "execution_count": 1,
   "outputs": [],
   "source": [
    "import torch\n",
    "import torch.nn.functional as F\n",
    "import matplotlib.pyplot as plt\n",
    "import numpy as np\n",
    "import pandas as pd"
   ],
   "metadata": {
    "collapsed": false,
    "ExecuteTime": {
     "end_time": "2023-10-08T12:57:56.662140400Z",
     "start_time": "2023-10-08T12:57:55.009906400Z"
    }
   },
   "id": "d2299e49f456f0ef"
  },
  {
   "cell_type": "code",
   "execution_count": 2,
   "outputs": [],
   "source": [
    "train_data = pd.read_csv('./data/train.csv')"
   ],
   "metadata": {
    "collapsed": false,
    "ExecuteTime": {
     "end_time": "2023-10-08T13:00:33.300442600Z",
     "start_time": "2023-10-08T13:00:33.288011300Z"
    }
   },
   "id": "b88d707e5e9f6a91"
  },
  {
   "cell_type": "code",
   "execution_count": 1,
   "outputs": [],
   "source": [
    "import pandas as pd"
   ],
   "metadata": {
    "collapsed": false,
    "ExecuteTime": {
     "end_time": "2023-10-09T11:37:17.588244100Z",
     "start_time": "2023-10-09T11:37:17.585224300Z"
    }
   },
   "id": "8763aa0eb26a7292"
  },
  {
   "cell_type": "code",
   "execution_count": 2,
   "outputs": [],
   "source": [
    "data_df = pd.DataFrame({'id':[1,2,3,4,5,6,7],'gender':['m','f','m','f','m','f','n']})"
   ],
   "metadata": {
    "collapsed": false,
    "ExecuteTime": {
     "end_time": "2023-10-09T11:37:25.498909600Z",
     "start_time": "2023-10-09T11:37:25.492988800Z"
    }
   },
   "id": "a42fb45ed68471c1"
  },
  {
   "cell_type": "code",
   "execution_count": 3,
   "outputs": [],
   "source": [
    "df_onehot = pd.get_dummies(data_df)"
   ],
   "metadata": {
    "collapsed": false,
    "ExecuteTime": {
     "end_time": "2023-10-09T11:37:47.410107Z",
     "start_time": "2023-10-09T11:37:47.367503400Z"
    }
   },
   "id": "48298baba3c479fd"
  },
  {
   "cell_type": "code",
   "execution_count": 4,
   "outputs": [],
   "source": [
    "df_onehot2 = pd.get_dummies(data_df, drop_first=True)"
   ],
   "metadata": {
    "collapsed": false,
    "ExecuteTime": {
     "end_time": "2023-10-09T11:39:06.078444800Z",
     "start_time": "2023-10-09T11:39:06.071247900Z"
    }
   },
   "id": "e905f984e3b62d6b"
  },
  {
   "cell_type": "code",
   "execution_count": null,
   "outputs": [],
   "source": [],
   "metadata": {
    "collapsed": false
   },
   "id": "3102db50fff9d599"
  }
 ],
 "metadata": {
  "kernelspec": {
   "display_name": "Python 3",
   "language": "python",
   "name": "python3"
  },
  "language_info": {
   "codemirror_mode": {
    "name": "ipython",
    "version": 2
   },
   "file_extension": ".py",
   "mimetype": "text/x-python",
   "name": "python",
   "nbconvert_exporter": "python",
   "pygments_lexer": "ipython2",
   "version": "2.7.6"
  }
 },
 "nbformat": 4,
 "nbformat_minor": 5
}
